{
 "cells": [
  {
   "cell_type": "markdown",
   "id": "4371a253",
   "metadata": {},
   "source": [
    " # Mini Project 1- Stock Market Analysis Using Python\n",
    "Business Scenario: Data Science extracts meaningful insight from chunks of raw data, which is useful to different business segments for planning their future course of action. Finance is probably one of the first to catch on to this trend with a rise in the penetration of analytics into many aspects of our lives. Here, we will analyze data from the stock market for some technology stocks such as Apple, Google, Amazon, and Microsoft.\n",
    "\n",
    "Objective: Use Python libraries such as Pandas, Seaborn, and Matplotlib to extract and analyze the information, visualize it, and look at different ways to analyze the risk of a stock, based on its performance history.\n",
    "\n",
    "About the Data: The stocks we have chosen are from various industries and market caps namely, • Apple • Google • Microsoft • Amazon\n",
    "\n",
    "For the start, we shall investigate the Amazon stock individually and then move on to the combined analysis.\n",
    "\n",
    "To know more about stocks and their data please visit the below link: https://in.finance.yahoo.com/\n",
    "\n",
    "The following tasks are to be performed:\n",
    "\n",
    "• Read the Data from Yahoo finance website directly.\n",
    "\n",
    "• Perform cleaning.\n",
    "\n",
    "• What was the change in stock price over time?\n",
    "\n",
    "• Visualize the change in a stock’s volume being traded, over time?\n",
    "\n",
    "• What was the moving average of various stocks?\n",
    "\n",
    "• What was the daily return average of a stock?\n",
    "\n",
    "• Add a new column ‘Trend’ whose values are based on the 'Daily Return'.\n",
    "\n",
    "• Visualize trend frequency through a Pie Chart.\n",
    "\n",
    "• What was the correlation between the daily returns of different stocks#"
   ]
  },
  {
   "cell_type": "code",
   "execution_count": 1,
   "id": "e5516158",
   "metadata": {},
   "outputs": [
    {
     "name": "stdout",
     "output_type": "stream",
     "text": [
      "Requirement already satisfied: yfinance in c:\\users\\vishnu\\anaconda3\\lib\\site-packages (0.1.90)\n",
      "Requirement already satisfied: lxml>=4.9.1 in c:\\users\\vishnu\\anaconda3\\lib\\site-packages (from yfinance) (4.9.2)\n",
      "Requirement already satisfied: pandas>=1.3.0 in c:\\users\\vishnu\\anaconda3\\lib\\site-packages (from yfinance) (1.4.2)\n",
      "Requirement already satisfied: multitasking>=0.0.7 in c:\\users\\vishnu\\anaconda3\\lib\\site-packages (from yfinance) (0.0.11)\n",
      "Requirement already satisfied: appdirs>=1.4.4 in c:\\users\\vishnu\\anaconda3\\lib\\site-packages (from yfinance) (1.4.4)\n",
      "Requirement already satisfied: numpy>=1.16.5 in c:\\users\\vishnu\\anaconda3\\lib\\site-packages (from yfinance) (1.21.5)\n",
      "Requirement already satisfied: requests>=2.26 in c:\\users\\vishnu\\anaconda3\\lib\\site-packages (from yfinance) (2.27.1)\n",
      "Requirement already satisfied: python-dateutil>=2.8.1 in c:\\users\\vishnu\\anaconda3\\lib\\site-packages (from pandas>=1.3.0->yfinance) (2.8.2)\n",
      "Requirement already satisfied: pytz>=2020.1 in c:\\users\\vishnu\\anaconda3\\lib\\site-packages (from pandas>=1.3.0->yfinance) (2021.3)\n",
      "Requirement already satisfied: six>=1.5 in c:\\users\\vishnu\\anaconda3\\lib\\site-packages (from python-dateutil>=2.8.1->pandas>=1.3.0->yfinance) (1.16.0)\n",
      "Requirement already satisfied: certifi>=2017.4.17 in c:\\users\\vishnu\\anaconda3\\lib\\site-packages (from requests>=2.26->yfinance) (2021.10.8)\n",
      "Requirement already satisfied: urllib3<1.27,>=1.21.1 in c:\\users\\vishnu\\anaconda3\\lib\\site-packages (from requests>=2.26->yfinance) (1.26.9)\n",
      "Requirement already satisfied: charset-normalizer~=2.0.0 in c:\\users\\vishnu\\anaconda3\\lib\\site-packages (from requests>=2.26->yfinance) (2.0.4)\n",
      "Requirement already satisfied: idna<4,>=2.5 in c:\\users\\vishnu\\anaconda3\\lib\\site-packages (from requests>=2.26->yfinance) (3.3)\n",
      "Note: you may need to restart the kernel to use updated packages.\n"
     ]
    }
   ],
   "source": [
    "\n",
    "pip install yfinance\n"
   ]
  },
  {
   "cell_type": "code",
   "execution_count": 2,
   "id": "6e088ca9",
   "metadata": {},
   "outputs": [],
   "source": [
    "#Importing essential libraries\n",
    "\n",
    "import pandas as pd\n",
    "from pandas_datareader import data\n",
    "import numpy as np \n",
    "import matplotlib.pyplot as plt\n",
    "from pandas.plotting import scatter_matrix\n",
    "import yfinance as yf\n",
    "import  seaborn as sns\n",
    "sns.set()\n"
   ]
  },
  {
   "cell_type": "markdown",
   "id": "f8dac712",
   "metadata": {},
   "source": [
    "1) Read the Data from Yahoo finance website directly"
   ]
  },
  {
   "cell_type": "code",
   "execution_count": 3,
   "id": "3669065f",
   "metadata": {},
   "outputs": [],
   "source": [
    "tickers = ['AAPL','MSFT','GOOGL','AMZN']\n",
    "\n",
    "start_date = '2015-01-01'\n",
    "end_date = '2022-12-7'"
   ]
  },
  {
   "cell_type": "code",
   "execution_count": 4,
   "id": "7b8f3cd6",
   "metadata": {},
   "outputs": [
    {
     "ename": "TypeError",
     "evalue": "string indices must be integers",
     "output_type": "error",
     "traceback": [
      "\u001b[1;31m---------------------------------------------------------------------------\u001b[0m",
      "\u001b[1;31mTypeError\u001b[0m                                 Traceback (most recent call last)",
      "Input \u001b[1;32mIn [4]\u001b[0m, in \u001b[0;36m<cell line: 1>\u001b[1;34m()\u001b[0m\n\u001b[1;32m----> 1\u001b[0m df \u001b[38;5;241m=\u001b[39m \u001b[43mdata\u001b[49m\u001b[38;5;241;43m.\u001b[39;49m\u001b[43mDataReader\u001b[49m\u001b[43m(\u001b[49m\u001b[43mtickers\u001b[49m\u001b[43m,\u001b[49m\u001b[43m \u001b[49m\u001b[38;5;124;43m'\u001b[39;49m\u001b[38;5;124;43myahoo\u001b[39;49m\u001b[38;5;124;43m'\u001b[39;49m\u001b[43m,\u001b[49m\u001b[43m \u001b[49m\u001b[43mstart_date\u001b[49m\u001b[43m,\u001b[49m\u001b[43m \u001b[49m\u001b[43mend_date\u001b[49m\u001b[43m)\u001b[49m\n",
      "File \u001b[1;32m~\\anaconda3\\lib\\site-packages\\pandas\\util\\_decorators.py:207\u001b[0m, in \u001b[0;36mdeprecate_kwarg.<locals>._deprecate_kwarg.<locals>.wrapper\u001b[1;34m(*args, **kwargs)\u001b[0m\n\u001b[0;32m    205\u001b[0m     \u001b[38;5;28;01melse\u001b[39;00m:\n\u001b[0;32m    206\u001b[0m         kwargs[new_arg_name] \u001b[38;5;241m=\u001b[39m new_arg_value\n\u001b[1;32m--> 207\u001b[0m \u001b[38;5;28;01mreturn\u001b[39;00m func(\u001b[38;5;241m*\u001b[39margs, \u001b[38;5;241m*\u001b[39m\u001b[38;5;241m*\u001b[39mkwargs)\n",
      "File \u001b[1;32m~\\anaconda3\\lib\\site-packages\\pandas_datareader\\data.py:370\u001b[0m, in \u001b[0;36mDataReader\u001b[1;34m(name, data_source, start, end, retry_count, pause, session, api_key)\u001b[0m\n\u001b[0;32m    367\u001b[0m     \u001b[38;5;28;01mraise\u001b[39;00m \u001b[38;5;167;01mNotImplementedError\u001b[39;00m(msg)\n\u001b[0;32m    369\u001b[0m \u001b[38;5;28;01mif\u001b[39;00m data_source \u001b[38;5;241m==\u001b[39m \u001b[38;5;124m\"\u001b[39m\u001b[38;5;124myahoo\u001b[39m\u001b[38;5;124m\"\u001b[39m:\n\u001b[1;32m--> 370\u001b[0m     \u001b[38;5;28;01mreturn\u001b[39;00m \u001b[43mYahooDailyReader\u001b[49m\u001b[43m(\u001b[49m\n\u001b[0;32m    371\u001b[0m \u001b[43m        \u001b[49m\u001b[43msymbols\u001b[49m\u001b[38;5;241;43m=\u001b[39;49m\u001b[43mname\u001b[49m\u001b[43m,\u001b[49m\n\u001b[0;32m    372\u001b[0m \u001b[43m        \u001b[49m\u001b[43mstart\u001b[49m\u001b[38;5;241;43m=\u001b[39;49m\u001b[43mstart\u001b[49m\u001b[43m,\u001b[49m\n\u001b[0;32m    373\u001b[0m \u001b[43m        \u001b[49m\u001b[43mend\u001b[49m\u001b[38;5;241;43m=\u001b[39;49m\u001b[43mend\u001b[49m\u001b[43m,\u001b[49m\n\u001b[0;32m    374\u001b[0m \u001b[43m        \u001b[49m\u001b[43madjust_price\u001b[49m\u001b[38;5;241;43m=\u001b[39;49m\u001b[38;5;28;43;01mFalse\u001b[39;49;00m\u001b[43m,\u001b[49m\n\u001b[0;32m    375\u001b[0m \u001b[43m        \u001b[49m\u001b[43mchunksize\u001b[49m\u001b[38;5;241;43m=\u001b[39;49m\u001b[38;5;241;43m25\u001b[39;49m\u001b[43m,\u001b[49m\n\u001b[0;32m    376\u001b[0m \u001b[43m        \u001b[49m\u001b[43mretry_count\u001b[49m\u001b[38;5;241;43m=\u001b[39;49m\u001b[43mretry_count\u001b[49m\u001b[43m,\u001b[49m\n\u001b[0;32m    377\u001b[0m \u001b[43m        \u001b[49m\u001b[43mpause\u001b[49m\u001b[38;5;241;43m=\u001b[39;49m\u001b[43mpause\u001b[49m\u001b[43m,\u001b[49m\n\u001b[0;32m    378\u001b[0m \u001b[43m        \u001b[49m\u001b[43msession\u001b[49m\u001b[38;5;241;43m=\u001b[39;49m\u001b[43msession\u001b[49m\u001b[43m,\u001b[49m\n\u001b[0;32m    379\u001b[0m \u001b[43m    \u001b[49m\u001b[43m)\u001b[49m\u001b[38;5;241;43m.\u001b[39;49m\u001b[43mread\u001b[49m\u001b[43m(\u001b[49m\u001b[43m)\u001b[49m\n\u001b[0;32m    381\u001b[0m \u001b[38;5;28;01melif\u001b[39;00m data_source \u001b[38;5;241m==\u001b[39m \u001b[38;5;124m\"\u001b[39m\u001b[38;5;124miex\u001b[39m\u001b[38;5;124m\"\u001b[39m:\n\u001b[0;32m    382\u001b[0m     \u001b[38;5;28;01mreturn\u001b[39;00m IEXDailyReader(\n\u001b[0;32m    383\u001b[0m         symbols\u001b[38;5;241m=\u001b[39mname,\n\u001b[0;32m    384\u001b[0m         start\u001b[38;5;241m=\u001b[39mstart,\n\u001b[1;32m   (...)\u001b[0m\n\u001b[0;32m    390\u001b[0m         session\u001b[38;5;241m=\u001b[39msession,\n\u001b[0;32m    391\u001b[0m     )\u001b[38;5;241m.\u001b[39mread()\n",
      "File \u001b[1;32m~\\anaconda3\\lib\\site-packages\\pandas_datareader\\base.py:258\u001b[0m, in \u001b[0;36m_DailyBaseReader.read\u001b[1;34m(self)\u001b[0m\n\u001b[0;32m    256\u001b[0m     df \u001b[38;5;241m=\u001b[39m \u001b[38;5;28mself\u001b[39m\u001b[38;5;241m.\u001b[39m_dl_mult_symbols(\u001b[38;5;28mself\u001b[39m\u001b[38;5;241m.\u001b[39msymbols\u001b[38;5;241m.\u001b[39mindex)\n\u001b[0;32m    257\u001b[0m \u001b[38;5;28;01melse\u001b[39;00m:\n\u001b[1;32m--> 258\u001b[0m     df \u001b[38;5;241m=\u001b[39m \u001b[38;5;28;43mself\u001b[39;49m\u001b[38;5;241;43m.\u001b[39;49m\u001b[43m_dl_mult_symbols\u001b[49m\u001b[43m(\u001b[49m\u001b[38;5;28;43mself\u001b[39;49m\u001b[38;5;241;43m.\u001b[39;49m\u001b[43msymbols\u001b[49m\u001b[43m)\u001b[49m\n\u001b[0;32m    259\u001b[0m \u001b[38;5;28;01mreturn\u001b[39;00m df\n",
      "File \u001b[1;32m~\\anaconda3\\lib\\site-packages\\pandas_datareader\\base.py:268\u001b[0m, in \u001b[0;36m_DailyBaseReader._dl_mult_symbols\u001b[1;34m(self, symbols)\u001b[0m\n\u001b[0;32m    266\u001b[0m \u001b[38;5;28;01mfor\u001b[39;00m sym \u001b[38;5;129;01min\u001b[39;00m sym_group:\n\u001b[0;32m    267\u001b[0m     \u001b[38;5;28;01mtry\u001b[39;00m:\n\u001b[1;32m--> 268\u001b[0m         stocks[sym] \u001b[38;5;241m=\u001b[39m \u001b[38;5;28;43mself\u001b[39;49m\u001b[38;5;241;43m.\u001b[39;49m\u001b[43m_read_one_data\u001b[49m\u001b[43m(\u001b[49m\u001b[38;5;28;43mself\u001b[39;49m\u001b[38;5;241;43m.\u001b[39;49m\u001b[43murl\u001b[49m\u001b[43m,\u001b[49m\u001b[43m \u001b[49m\u001b[38;5;28;43mself\u001b[39;49m\u001b[38;5;241;43m.\u001b[39;49m\u001b[43m_get_params\u001b[49m\u001b[43m(\u001b[49m\u001b[43msym\u001b[49m\u001b[43m)\u001b[49m\u001b[43m)\u001b[49m\n\u001b[0;32m    269\u001b[0m         passed\u001b[38;5;241m.\u001b[39mappend(sym)\n\u001b[0;32m    270\u001b[0m     \u001b[38;5;28;01mexcept\u001b[39;00m (\u001b[38;5;167;01mIOError\u001b[39;00m, \u001b[38;5;167;01mKeyError\u001b[39;00m):\n",
      "File \u001b[1;32m~\\anaconda3\\lib\\site-packages\\pandas_datareader\\yahoo\\daily.py:153\u001b[0m, in \u001b[0;36mYahooDailyReader._read_one_data\u001b[1;34m(self, url, params)\u001b[0m\n\u001b[0;32m    151\u001b[0m \u001b[38;5;28;01mtry\u001b[39;00m:\n\u001b[0;32m    152\u001b[0m     j \u001b[38;5;241m=\u001b[39m json\u001b[38;5;241m.\u001b[39mloads(re\u001b[38;5;241m.\u001b[39msearch(ptrn, resp\u001b[38;5;241m.\u001b[39mtext, re\u001b[38;5;241m.\u001b[39mDOTALL)\u001b[38;5;241m.\u001b[39mgroup(\u001b[38;5;241m1\u001b[39m))\n\u001b[1;32m--> 153\u001b[0m     data \u001b[38;5;241m=\u001b[39m \u001b[43mj\u001b[49m\u001b[43m[\u001b[49m\u001b[38;5;124;43m\"\u001b[39;49m\u001b[38;5;124;43mcontext\u001b[39;49m\u001b[38;5;124;43m\"\u001b[39;49m\u001b[43m]\u001b[49m\u001b[43m[\u001b[49m\u001b[38;5;124;43m\"\u001b[39;49m\u001b[38;5;124;43mdispatcher\u001b[39;49m\u001b[38;5;124;43m\"\u001b[39;49m\u001b[43m]\u001b[49m\u001b[43m[\u001b[49m\u001b[38;5;124;43m\"\u001b[39;49m\u001b[38;5;124;43mstores\u001b[39;49m\u001b[38;5;124;43m\"\u001b[39;49m\u001b[43m]\u001b[49m\u001b[43m[\u001b[49m\u001b[38;5;124;43m\"\u001b[39;49m\u001b[38;5;124;43mHistoricalPriceStore\u001b[39;49m\u001b[38;5;124;43m\"\u001b[39;49m\u001b[43m]\u001b[49m\n\u001b[0;32m    154\u001b[0m \u001b[38;5;28;01mexcept\u001b[39;00m \u001b[38;5;167;01mKeyError\u001b[39;00m:\n\u001b[0;32m    155\u001b[0m     msg \u001b[38;5;241m=\u001b[39m \u001b[38;5;124m\"\u001b[39m\u001b[38;5;124mNo data fetched for symbol \u001b[39m\u001b[38;5;132;01m{}\u001b[39;00m\u001b[38;5;124m using \u001b[39m\u001b[38;5;132;01m{}\u001b[39;00m\u001b[38;5;124m\"\u001b[39m\n",
      "\u001b[1;31mTypeError\u001b[0m: string indices must be integers"
     ]
    }
   ],
   "source": [
    "\n",
    "df = data.DataReader(tickers, 'yahoo', start_date, end_date)"
   ]
  },
  {
   "cell_type": "code",
   "execution_count": null,
   "id": "77468d02",
   "metadata": {},
   "outputs": [],
   "source": [
    "df.tail()"
   ]
  },
  {
   "cell_type": "markdown",
   "id": "d0259bbb",
   "metadata": {},
   "source": [
    "2) perform clean "
   ]
  },
  {
   "cell_type": "code",
   "execution_count": null,
   "id": "e62f9d2b",
   "metadata": {},
   "outputs": [],
   "source": [
    "df.isnull().sum()"
   ]
  },
  {
   "cell_type": "code",
   "execution_count": null,
   "id": "56a48fcb",
   "metadata": {},
   "outputs": [],
   "source": [
    "df.info()"
   ]
  },
  {
   "cell_type": "code",
   "execution_count": null,
   "id": "e9b2a766",
   "metadata": {},
   "outputs": [],
   "source": [
    "df.describe()"
   ]
  },
  {
   "cell_type": "code",
   "execution_count": null,
   "id": "09db1b11",
   "metadata": {},
   "outputs": [],
   "source": [
    "df.reset_index(inplace=True)\n",
    "df.set_index(\"Date\",inplace=True)\n",
    "df"
   ]
  },
  {
   "cell_type": "markdown",
   "id": "fdfe5cca",
   "metadata": {},
   "source": [
    "3) What was the change in stock price over time?"
   ]
  },
  {
   "cell_type": "code",
   "execution_count": null,
   "id": "fa8a78e4",
   "metadata": {},
   "outputs": [],
   "source": [
    "data_1 = df['Adj Close']\n",
    "data_1.head()"
   ]
  },
  {
   "cell_type": "code",
   "execution_count": null,
   "id": "2d822e8b",
   "metadata": {},
   "outputs": [],
   "source": [
    "daily_return = data_1.pct_change(1)\n",
    "daily_return.head()"
   ]
  },
  {
   "cell_type": "code",
   "execution_count": null,
   "id": "9d6e1d86",
   "metadata": {},
   "outputs": [],
   "source": [
    "daily_return.describe()"
   ]
  },
  {
   "cell_type": "markdown",
   "id": "43b7daf6",
   "metadata": {},
   "source": [
    "4) Visualize the change in a stock’s volume being traded, over time?"
   ]
  },
  {
   "cell_type": "code",
   "execution_count": null,
   "id": "d558df94",
   "metadata": {},
   "outputs": [],
   "source": [
    "data_2 = df['Volume']\n",
    "data_2.pct_change(1) "
   ]
  },
  {
   "cell_type": "code",
   "execution_count": null,
   "id": "293aaef2",
   "metadata": {},
   "outputs": [],
   "source": [
    "volume_Apple = data_2['AAPL']\n",
    "volume_Microsoft = data_2['MSFT']\n",
    "volume_Google = data_2['GOOGL']\n",
    "volume_Amazon = data_2['AMZN']"
   ]
  },
  {
   "cell_type": "code",
   "execution_count": null,
   "id": "b572edb8",
   "metadata": {},
   "outputs": [],
   "source": [
    "volume_Apple.plot(figsize=(20,9),color='red')\n",
    "plt.show()\n",
    "\n"
   ]
  },
  {
   "cell_type": "code",
   "execution_count": null,
   "id": "666ec24b",
   "metadata": {},
   "outputs": [],
   "source": [
    "volume_Microsoft.plot(figsize=(20,9), color=\"cyan\",)\n",
    "plt.show()"
   ]
  },
  {
   "cell_type": "code",
   "execution_count": null,
   "id": "de22fd9a",
   "metadata": {},
   "outputs": [],
   "source": [
    "volume_Google.plot(figsize=(20,9), color='lightblue')\n",
    "plt.show()"
   ]
  },
  {
   "cell_type": "code",
   "execution_count": null,
   "id": "ade6c121",
   "metadata": {},
   "outputs": [],
   "source": [
    "volume_Amazon.plot(figsize=(20,9),color='#CB4335')\n",
    "plt.show()"
   ]
  },
  {
   "cell_type": "code",
   "execution_count": null,
   "id": "d0c29284",
   "metadata": {},
   "outputs": [],
   "source": [
    "data_2.plot(figsize=(25,10))\n",
    "plt.title('Volumes of stocks ')\n",
    "plt.show()"
   ]
  },
  {
   "cell_type": "markdown",
   "id": "897d8629",
   "metadata": {},
   "source": [
    "5) What was the moving average of various stocks?"
   ]
  },
  {
   "cell_type": "markdown",
   "id": "57257ce4",
   "metadata": {},
   "source": [
    "Moving averages are used to identify significant support and resistance levels.\n",
    "Traders watch for crossovers of longer-term moving averages by shorter-term moving averages as possible indicators of trend changes to enter long and short positions."
   ]
  },
  {
   "cell_type": "code",
   "execution_count": null,
   "id": "239d1a23",
   "metadata": {},
   "outputs": [],
   "source": [
    "data_1"
   ]
  },
  {
   "cell_type": "code",
   "execution_count": null,
   "id": "9081b9fa",
   "metadata": {},
   "outputs": [],
   "source": [
    "mva_short_term = data_1.rolling(50).mean()\n",
    "mva_long_term  = data_1.rolling(200).mean()"
   ]
  },
  {
   "cell_type": "code",
   "execution_count": null,
   "id": "920b06e1",
   "metadata": {},
   "outputs": [],
   "source": [
    "mva_short_term.tail()"
   ]
  },
  {
   "cell_type": "code",
   "execution_count": null,
   "id": "d456ba5a",
   "metadata": {},
   "outputs": [],
   "source": [
    "mva_long_term.tail()"
   ]
  },
  {
   "cell_type": "code",
   "execution_count": null,
   "id": "13553004",
   "metadata": {},
   "outputs": [],
   "source": [
    "mva_short_term_Apple = mva_short_term['AAPL']\n",
    "mva_long_term_Apple = mva_long_term['AAPL']\n",
    "\n",
    "mva_short_term_Apple.plot(label = 'Short term moving avg',color = '#E000FF' ,figsize = (15,8))\n",
    "mva_long_term_Apple.plot(label = 'long term moving avg',color = '#74FF00' )\n",
    "data_1['AAPL'].plot()\n",
    "plt.legend()\n",
    "plt.show()\n"
   ]
  },
  {
   "cell_type": "code",
   "execution_count": null,
   "id": "66d6b9e7",
   "metadata": {},
   "outputs": [],
   "source": [
    "mva_short_term_Microsoft = mva_short_term['MSFT']\n",
    "mva_long_term_Microsft  = mva_long_term['MSFT']\n",
    "\n",
    "mva_short_term_Microsoft.plot(label = 'Short term moving avg' ,color = '#E000FF'  , figsize = (17,8))\n",
    "mva_long_term_Microsft.plot(label = 'long term moving avg', color = '#74FF00')\n",
    "data_1['MSFT'].plot()\n",
    "plt.legend()\n",
    "plt.show()"
   ]
  },
  {
   "cell_type": "code",
   "execution_count": null,
   "id": "58b1b24f",
   "metadata": {},
   "outputs": [],
   "source": [
    "mva_short_term_google = mva_short_term['GOOGL']\n",
    "mva_long_term_google = mva_long_term['GOOGL']\n",
    "\n",
    "mva_short_term_google.plot(label = 'Short term moving avg' ,color = '#E000FF' , figsize = (17,8))\n",
    "mva_long_term_google.plot(label = 'long term moving avg', color = '#74FF00')\n",
    "data_1['GOOGL'].plot()\n",
    "plt.legend()\n",
    "plt.show()"
   ]
  },
  {
   "cell_type": "code",
   "execution_count": null,
   "id": "a2810288",
   "metadata": {},
   "outputs": [],
   "source": [
    "mva_short_term_amazon = mva_short_term['AMZN']\n",
    "mva_long_term_amazon = mva_long_term['AMZN']\n",
    "\n",
    "mva_short_term_amazon.plot(label = 'Short term moving avg' ,color = '#E000FF' , figsize = (17,8))\n",
    "mva_long_term_amazon.plot(label = 'long term moving avg', color = '#74FF00')\n",
    "data_1['AMZN'].plot()\n",
    "plt.legend()\n",
    "plt.show()"
   ]
  },
  {
   "cell_type": "markdown",
   "id": "03bffd9e",
   "metadata": {},
   "source": [
    "6) What was the daily return average of a stock?"
   ]
  },
  {
   "cell_type": "code",
   "execution_count": null,
   "id": "75da7766",
   "metadata": {},
   "outputs": [],
   "source": [
    "daily_return_avg = data_1.pct_change()*100\n",
    "daily_return_avg"
   ]
  },
  {
   "cell_type": "code",
   "execution_count": null,
   "id": "bde96e50",
   "metadata": {},
   "outputs": [],
   "source": [
    "daily_return_Apple = daily_return_avg['AAPL']\n",
    "daily_return_Microsft = daily_return_avg['MSFT']\n",
    "daily_return_Google = daily_return_avg['GOOGL']\n",
    "daily_return_Amazon = daily_return_avg['AMZN']"
   ]
  },
  {
   "cell_type": "code",
   "execution_count": null,
   "id": "0ca5159e",
   "metadata": {},
   "outputs": [],
   "source": [
    "df['Apple_return'] = daily_return_Apple\n",
    "df['Microsoft_return']= daily_return_Microsft\n",
    "df['Google_return'] = daily_return_Google\n",
    "df['Amazon_retrun'] = daily_return_Amazon"
   ]
  },
  {
   "cell_type": "code",
   "execution_count": null,
   "id": "296a4d23",
   "metadata": {},
   "outputs": [],
   "source": [
    "df"
   ]
  },
  {
   "cell_type": "code",
   "execution_count": null,
   "id": "bc5362d4",
   "metadata": {},
   "outputs": [],
   "source": [
    "daily_return_avg.plot(figsize=(20,10))"
   ]
  },
  {
   "cell_type": "markdown",
   "id": "cca4afef",
   "metadata": {},
   "source": [
    "7) Add a new column ‘Trend’ whose values are based on the 'Daily Return"
   ]
  },
  {
   "cell_type": "code",
   "execution_count": null,
   "id": "4db7d000",
   "metadata": {},
   "outputs": [],
   "source": [
    "def trend(x):\n",
    "    if x > -0.5 and x <= 0.5:\n",
    "        return 'Slight No change'\n",
    "    elif x > 0.5 and x <= 1:\n",
    "        return 'Slight Positive'\n",
    "    elif x > -1 and x <= -0.5:\n",
    "        return 'Slight Negative'\n",
    "    elif x > 1 and x <= 3:\n",
    "        return 'Positive'\n",
    "    elif x > -3 and x <= -1:\n",
    "        return 'Negative'\n",
    "    elif x > 3 and x <= 7:\n",
    "        return 'Among top gainers'\n",
    "    elif x > -7 and x <= -3:\n",
    "        return 'Among top losers'\n",
    "    elif x > 7:\n",
    "        return 'Bull run'\n",
    "    elif x <= -7:\n",
    "        return 'Bear drop'"
   ]
  },
  {
   "cell_type": "code",
   "execution_count": null,
   "id": "b5007938",
   "metadata": {},
   "outputs": [],
   "source": [
    "df['Apple_Trend'] = daily_return_Apple.apply(lambda x:trend(x))\n",
    "df['Microsoft_Trend'] = daily_return_Microsft.apply(lambda x :trend(x))\n",
    "df['Google_Trend']= daily_return_Google.apply(lambda x :trend(x))\n",
    "df['Amazon_Trend'] = daily_return_Apple.apply(lambda x :trend(x))"
   ]
  },
  {
   "cell_type": "code",
   "execution_count": null,
   "id": "78c06515",
   "metadata": {},
   "outputs": [],
   "source": [
    "Apple_Trend = df['Apple_Trend']"
   ]
  },
  {
   "cell_type": "code",
   "execution_count": null,
   "id": "d50b37a9",
   "metadata": {},
   "outputs": [],
   "source": [
    "df"
   ]
  },
  {
   "cell_type": "code",
   "execution_count": null,
   "id": "3b2c525d",
   "metadata": {
    "scrolled": false
   },
   "outputs": [],
   "source": [
    "df = df.iloc[1: , :]\n",
    "df"
   ]
  },
  {
   "cell_type": "code",
   "execution_count": null,
   "id": "518b15b8",
   "metadata": {
    "scrolled": false
   },
   "outputs": [],
   "source": [
    "Apple_pie = df.groupby('Apple_Trend')\n",
    "pie_label = sorted([i for i in df.loc[:, 'Apple_Trend'].unique()])\n",
    "plt.pie(Apple_pie['Apple_Trend'].count(), labels = pie_label, \n",
    "        autopct = '%1.1f%%', radius = 1.2,shadow = True)\n",
    "\n",
    "plt.show()"
   ]
  },
  {
   "cell_type": "code",
   "execution_count": null,
   "id": "5f1992a0",
   "metadata": {},
   "outputs": [],
   "source": [
    "Microsoft_pie = df.groupby('Microsoft_Trend')\n",
    "pie_label_2 = sorted([i for i in df.loc[:, 'Microsoft_Trend'].unique()])\n",
    "plt.pie(Microsoft_pie['Microsoft_Trend'].count(), labels = pie_label_2, \n",
    "        autopct = '%1.1f%%', radius = 1.2,shadow = True)\n",
    "\n",
    "plt.show()"
   ]
  },
  {
   "cell_type": "code",
   "execution_count": null,
   "id": "f4cd84ac",
   "metadata": {},
   "outputs": [],
   "source": [
    "Google_pie = df.groupby('Google_Trend')\n",
    "pie_label_3 = sorted([i for i in df.loc[:, 'Google_Trend'].unique()])\n",
    "plt.pie(Google_pie['Google_Trend'].count(), labels = pie_label_3, \n",
    "        autopct = '%1.1f%%', radius = 1.2,shadow = True)\n",
    "\n",
    "plt.show()"
   ]
  },
  {
   "cell_type": "code",
   "execution_count": null,
   "id": "39eec258",
   "metadata": {},
   "outputs": [],
   "source": [
    "Amazon_pie =  df.groupby('Amazon_Trend')\n",
    "pie_label_4 = sorted([i for i in df.loc[:, 'Amazon_Trend'].unique()])\n",
    "plt.pie(Amazon_pie['Amazon_Trend'].count(), labels = pie_label_4, \n",
    "        autopct = '%1.1f%%', radius = 1.2,shadow = True)\n",
    "\n",
    "plt.show()"
   ]
  },
  {
   "cell_type": "markdown",
   "id": "dd9e03b4",
   "metadata": {},
   "source": [
    "8) What was the correlation between the daily returns of different stocks#"
   ]
  },
  {
   "cell_type": "code",
   "execution_count": null,
   "id": "98347eb2",
   "metadata": {},
   "outputs": [],
   "source": [
    "daily_return_avg.dropna(inplace= True, axis = 0)\n",
    "daily_return_avg.iloc[1: , :]\n"
   ]
  },
  {
   "cell_type": "code",
   "execution_count": null,
   "id": "7d50ecde",
   "metadata": {},
   "outputs": [],
   "source": [
    "corr_df = daily_return_avg.corr(method='pearson')\n",
    "corr_df.head().reset_index()\n",
    "corr_df.head()"
   ]
  },
  {
   "cell_type": "code",
   "execution_count": null,
   "id": "e7a63a1b",
   "metadata": {},
   "outputs": [],
   "source": [
    "mask = np.zeros_like(corr_df)\n",
    "mask[np.tril_indices_from(mask)] = True\n",
    "sns.heatmap(corr_df, cmap = 'YlGn', vmax = 1.0 , vmin= -1.0 ,  mask = mask, linewidths = 2.5 )\n",
    "plt.yticks(rotation = 0)\n",
    "plt.xticks(rotation = 90)\n",
    "plt.show()"
   ]
  },
  {
   "cell_type": "code",
   "execution_count": null,
   "id": "d1ce38f9",
   "metadata": {},
   "outputs": [],
   "source": []
  },
  {
   "cell_type": "code",
   "execution_count": null,
   "id": "15e5d375",
   "metadata": {},
   "outputs": [],
   "source": []
  },
  {
   "cell_type": "code",
   "execution_count": null,
   "id": "d01205fc",
   "metadata": {},
   "outputs": [],
   "source": []
  }
 ],
 "metadata": {
  "kernelspec": {
   "display_name": "Python 3 (ipykernel)",
   "language": "python",
   "name": "python3"
  },
  "language_info": {
   "codemirror_mode": {
    "name": "ipython",
    "version": 3
   },
   "file_extension": ".py",
   "mimetype": "text/x-python",
   "name": "python",
   "nbconvert_exporter": "python",
   "pygments_lexer": "ipython3",
   "version": "3.9.12"
  }
 },
 "nbformat": 4,
 "nbformat_minor": 5
}
