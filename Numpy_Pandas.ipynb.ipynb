{
 "cells": [
  {
   "cell_type": "markdown",
   "id": "665f5cda",
   "metadata": {},
   "source": [
    "# Problem Statement 1: Write a Python program to multiply a 𝑀 × 𝑁 matrix by 𝑁 × 𝐴 matrix and\n",
    "create a real matrix product."
   ]
  },
  {
   "cell_type": "code",
   "execution_count": 3,
   "id": "ae9ef863",
   "metadata": {},
   "outputs": [],
   "source": [
    "import numpy as np\n",
    "from numpy import random as rd"
   ]
  },
  {
   "cell_type": "code",
   "execution_count": 17,
   "id": "a8795d29",
   "metadata": {},
   "outputs": [
    {
     "name": "stdout",
     "output_type": "stream",
     "text": [
      "enter the 3 numbers separated space  in single line: 4 5 6\n",
      "first matrix :  \n",
      " [[0.68523792 0.19813781 0.83713396 0.72147245 0.16462505]\n",
      " [0.84865202 0.48568343 0.40180186 0.74558717 0.2802248 ]\n",
      " [0.97865837 0.33382974 0.7251066  0.43006699 0.09285213]\n",
      " [0.80880205 0.52315324 0.22641438 0.73354283 0.68213909]]\n",
      "second matrix:\n",
      " [[0.42023222 0.42056552 0.84308837 0.50560842 0.77435259 0.90942197]\n",
      " [0.09724402 0.42325064 0.58570063 0.85379662 0.56301311 0.78129785]\n",
      " [0.56410084 0.35416398 0.84623419 0.84331931 0.4411163  0.74117748]\n",
      " [0.27382339 0.81585127 0.75140817 0.68415127 0.66668173 0.19809918]\n",
      " [0.61508853 0.56442344 0.33994463 0.89889899 0.61241248 0.85629103]]\n",
      "dot product of matrix A and matrix B\n",
      " [[1.07826975 1.35006455 2.00026064 1.86318028 1.59325431 1.68232997]\n",
      " [1.00703976 1.47123704 1.99547343 1.94459595 1.77652589 1.8367069 ]\n",
      " [1.02763464 1.21296888 1.98895021 1.76903258 1.60921511 1.85297093]\n",
      " [1.13891586 1.62524416 1.96298198 2.16157162 1.92750526 2.04151793]]\n"
     ]
    }
   ],
   "source": [
    "\n",
    "M,N,A=map(int,input(\"enter the 3 numbers separated space  in single line: \").split())\n",
    "matrixA=rd.rand(M,N)\n",
    "matrixB=rd.rand(N,A)\n",
    "print(\"\"\"first matrix :  \n",
    "\"\"\",matrixA)\n",
    "print(\"\"\"second matrix:\n",
    "\"\"\",matrixB)\n",
    "\n",
    "print(\"\"\"dot product of matrix A and matrix B\n",
    "\"\"\",np.dot(matrixA,matrixB))\n"
   ]
  },
  {
   "cell_type": "markdown",
   "id": "215795ce",
   "metadata": {},
   "source": [
    "# Problem Statement 2: Write a NumPy program to check if each element of an array of your  choice is composed of digits, lower case letters, and upper case letters only.\n"
   ]
  },
  {
   "cell_type": "code",
   "execution_count": null,
   "id": "c76e86f3",
   "metadata": {},
   "outputs": [],
   "source": [
    "x = [x for x in input(\"Enter multiple values: \").split()]\n",
    "x = np.array(x, dtype=str)\n",
    "print(\"\\nOriginal Array:\")\n",
    "print(x)\n",
    "r1 = np.char.isdigit(x)\n",
    "r2 = np.char.islower(x)\n",
    "r3 = np.char.isupper(x)\n",
    "print(\"Digits only =\", r1)\n",
    "print(\"Lower cases only =\", r2)\n",
    "print(\"Upper cases only =\", r3)"
   ]
  },
  {
   "cell_type": "markdown",
   "id": "e1d01911",
   "metadata": {},
   "source": [
    "# Problem Statement 3: Write a program that reads two space-separated positive integers 𝑋 and 𝑌 as input and perform the following tasks:"
   ]
  },
  {
   "cell_type": "code",
   "execution_count": 1,
   "id": "270c3763",
   "metadata": {},
   "outputs": [
    {
     "name": "stdout",
     "output_type": "stream",
     "text": [
      "enter the 2 numbers separated space  in single line: -7 9\n",
      "enter positive number\n"
     ]
    }
   ],
   "source": [
    "\n",
    "def pos(X,Y):\n",
    "    if X>0 and Y >0:\n",
    "        list1=[i for i in range(1,16*X,X)]\n",
    "        list2=[i for i in range(1,16*Y,Y)]\n",
    "        np1=np.array(list1)\n",
    "        np2=np.array(list2)\n",
    "        P=np1.reshape(4,4)\n",
    "        q=np2.reshape(4,4)\n",
    "        np3=np.subtract(np1,np2)\n",
    "        print(np3)\n",
    "    else:\n",
    "        print(\"enter positive number\")\n",
    "X,Y=map(int,input(\"enter the 2 numbers separated space  in single line: \").split())\n",
    "pos(X,Y)"
   ]
  },
  {
   "cell_type": "markdown",
   "id": "e3c7d777",
   "metadata": {},
   "source": [
    "# Problem Statement 4: Write a Python program that takes two integer-NumPy arrays, 𝑃 and 𝑄 of shape [3 ∗ 3] and perform the following task:\n"
   ]
  },
  {
   "cell_type": "code",
   "execution_count": 13,
   "id": "15c29714",
   "metadata": {},
   "outputs": [
    {
     "name": "stdout",
     "output_type": "stream",
     "text": [
      "Enter multiple values: 23 56 87 3 6 96 4 6 78\n",
      "Enter multiple values: 12 34 54 7 2 54 6 2 78\n",
      "[[11 22 33]\n",
      " [-4  4 42]\n",
      " [-2  4  0]]\n"
     ]
    }
   ],
   "source": [
    "x = [int(x) for x in input(\"Enter multiple values: \").split()[:9]]\n",
    "y = [int(x) for x in input(\"Enter multiple values: \").split()[:9]]\n",
    "p=np.array(x)\n",
    "q=np.array(y)\n",
    "P=p.reshape(3,3)\n",
    "Q=q.reshape(3,3)\n",
    "print(np.subtract(P,Q))"
   ]
  },
  {
   "cell_type": "code",
   "execution_count": null,
   "id": "27ef3f80",
   "metadata": {},
   "outputs": [],
   "source": []
  }
 ],
 "metadata": {
  "kernelspec": {
   "display_name": "Python 3 (ipykernel)",
   "language": "python",
   "name": "python3"
  },
  "language_info": {
   "codemirror_mode": {
    "name": "ipython",
    "version": 3
   },
   "file_extension": ".py",
   "mimetype": "text/x-python",
   "name": "python",
   "nbconvert_exporter": "python",
   "pygments_lexer": "ipython3",
   "version": "3.9.12"
  }
 },
 "nbformat": 4,
 "nbformat_minor": 5
}
